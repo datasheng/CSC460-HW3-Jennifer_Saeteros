{
 "cells": [
  {
   "cell_type": "code",
   "execution_count": 140,
   "id": "00a62402-019e-4af0-a415-a7479be8edcd",
   "metadata": {},
   "outputs": [
    {
     "name": "stdout",
     "output_type": "stream",
     "text": [
      "                                          Dow                         Text Description\n",
      "date                                                                                  \n",
      "August 01, 2021                        Sunday  Application for degree for January a...\n",
      "August 18, 2021                     Wednesday       Last day to apply for Study Abroad\n",
      "August 24, 2021                       Tuesday  Last day of Registration;Last day to...\n",
      "August 25, 2021                     Wednesday  Start of Fall Term;Classes begin;Ini...\n",
      "August 25 - 31, 2021      Wednesday - Tuesday  Change of program period; late fees ...\n",
      "August 26, 2021                      Thursday           Last day for Independent Study\n",
      "August 28, 2021                      Saturday            First day of Saturday Classes\n",
      "August 31, 2021                       Tuesday  Last day to add a class to an existi...\n",
      "September 01, 2021                  Wednesday  Verification of Enrollment rosters a...\n",
      "September 03 - 08, 2021    Friday - Wednesday                     No classes scheduled\n",
      "September 06, 2021                     Monday  College Closed;Last day for 50% tuit...\n",
      "September 09, 2021                   Thursday                     Freshman Convocation\n",
      "September 14, 2021                    Tuesday  Last day for 25% tuition refund;Cens...\n",
      "September 15, 2021                  Wednesday  Assignment of 'WN' grades for non-at...\n",
      "September 15 - 16, 2021  Wednesday - Thursday                     No classes scheduled\n",
      "September 23, 2021                   Thursday  Last day to submit proof of immuniza...\n",
      "September 24, 2021                     Friday  Assignment of 'WA' grades for immuni...\n",
      "October 01, 2021                       Friday  Advising month begins for Spring and...\n",
      "October 08, 2021                       Friday  Deadline for filing application for ...\n",
      "October 11, 2021                       Monday                           College Closed\n",
      "November 01, 2021                      Monday  'INC' grades for Spring 2021 and Win...\n",
      "November 02, 2021                     Tuesday  Registration appointments for Winter...\n",
      "November 04, 2021                    Thursday         Last day to file for P/NC option\n",
      "November 06, 2021                    Saturday                     60% Date of the term\n",
      "November 23, 2021                     Tuesday  'INC' grades for Summer 2021 for Und...\n",
      "November 25 - 28, 2021      Thursday - Sunday                           College Closed\n",
      "December 11, 2021                    Saturday             Last day of Saturday Classes\n",
      "December 13, 2021                      Monday  Course Withdrawal period ends (Last ...\n",
      "December 14, 2021                     Tuesday                              Reading Day\n",
      "December 15 - 21, 2021    Wednesday - Tuesday                       Final Examinations\n",
      "December 21, 2021                     Tuesday                              End of Term\n",
      "December 24 - 25, 2021      Friday - Saturday                           College Closed\n",
      "December 27, 2021                      Monday                           College Closed\n",
      "December 28, 2021                     Tuesday  Final Grade Submission Deadline for ...\n",
      "December 31, 2021                      Friday                           College Closed\n",
      "January 1, 2022, 2021                Saturday  College Closed;Fall 2021 Degree Conf...\n"
     ]
    }
   ],
   "source": [
    "import requests\n",
    "from bs4 import BeautifulSoup\n",
    "import pandas as pd\n",
    "\n",
    "\n",
    "# GET to request htm & link url\n",
    "url = 'https://www.ccny.cuny.edu/registrar/fall'\n",
    "r = requests.get(url)\n",
    "html_doc = r.text\n",
    "soup = BeautifulSoup(html_doc)\n",
    "\n",
    "#Find Table & Extract\n",
    "table = soup.find(\"table\")\n",
    "\n",
    "data = []\n",
    "\n",
    "    \n",
    "for row in table.find_all(\"tr\")[1:]:\n",
    "    cells = row.find_all(\"td\")\n",
    "    if len(cells) == 3:\n",
    "        date_text = cells[0].get_text(strip=True) + \", 2021\"\n",
    "        dow_text = cells[1].get_text(strip=True)\n",
    "        description = cells[2].get_text(strip=True)\n",
    "        \n",
    "       \n",
    "         #appending to data list\n",
    "        \n",
    "        data.append({\"date\":date_text, \"Dow\": dow_text, \"Text Description\": description})\n",
    "        \n",
    "df = pd.DataFrame(data)\n",
    "df.set_index(\"date\", inplace=True)\n",
    "pd.set_option('display.max_colwidth', 40)\n",
    "\n",
    "print(df)\n",
    "\n"
   ]
  },
  {
   "cell_type": "code",
   "execution_count": null,
   "id": "90ec4d41-39e7-48e7-bd8c-70eced3dd2ca",
   "metadata": {},
   "outputs": [],
   "source": []
  },
  {
   "cell_type": "code",
   "execution_count": null,
   "id": "5f6cad58-92a0-493c-8e98-c8e36d2429f4",
   "metadata": {},
   "outputs": [],
   "source": []
  }
 ],
 "metadata": {
  "kernelspec": {
   "display_name": "Python 3 (ipykernel)",
   "language": "python",
   "name": "python3"
  },
  "language_info": {
   "codemirror_mode": {
    "name": "ipython",
    "version": 3
   },
   "file_extension": ".py",
   "mimetype": "text/x-python",
   "name": "python",
   "nbconvert_exporter": "python",
   "pygments_lexer": "ipython3",
   "version": "3.10.12"
  }
 },
 "nbformat": 4,
 "nbformat_minor": 5
}
